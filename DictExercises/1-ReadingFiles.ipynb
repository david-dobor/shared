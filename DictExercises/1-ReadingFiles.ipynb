{
 "cells": [
  {
   "cell_type": "markdown",
   "metadata": {},
   "source": [
    "## Monday, July 23, 2018 Recitation \n",
    "\n",
    "### Part 1 of 4 (15 - 20 minutes)\n",
    "\n",
    "This is a Jupiter Notebook, a modern interactive computing environment that allows you to create and share documents that contain live code, visualizations and narrative text.\n",
    "\n",
    "Follow the classroom discussion on the basic usage of jupiter notebooks. \n",
    "\n",
    "You will be writing up your solutions to future programming assignments in jupiter notebooks and uploading them to Canvas. \n",
    "\n",
    "*At the end of this notebook, you will find an exercise. Write your solution to the exercise in a new notebook and upload it to Canvas.* **The exercise is due by the end of this recitation**\n",
    "\n",
    "\n",
    "## Download Exercise Files\n",
    "\n",
    "For today's exercises, we need a list of English words. \n",
    "\n",
    "Download the following three plain text files and *save them in the same directory as this notebook.*\n",
    "\n",
    "* [`words.txt` -- a list of words](https://drive.google.com/file/d/1VXHiH3oDj5ETurBd0LwRHqUxpWe5c13U/view?usp=sharing) (taken from the Moby lexicon project).\n",
    "* A smaller list of 1000 words -- [1000words.txt](https://drive.google.com/file/d/1N85Wt27UtsXhpyGaMZOF7XJ0R0BjoDS9/view?usp=sharing)\n",
    "* [tale.txt](https://drive.google.com/file/d/195tG_NieKiKLTELThZKU83uCXpfEzl8u/view?usp=sharing).\n",
    "\n",
    "\n",
    "## Using `file` objects\n",
    "\n",
    "You could open the files you just downloaded with a text editor to examine their contents, but you can also read them from Python. The built-in function `open` takes the name of the file as a parameter and returns a **file object** you can use to read the file."
   ]
  },
  {
   "cell_type": "code",
   "execution_count": null,
   "metadata": {
    "collapsed": true
   },
   "outputs": [],
   "source": [
    "fin = open('tale.txt')"
   ]
  },
  {
   "cell_type": "markdown",
   "metadata": {},
   "source": [
    "`fin` is a commonly used name for a file object used for input. Think of it a handle that allows you to manipulate the file. The file object provides several methods for reading, including `readline`, which reads characters from the file until it gets to a newline and returns the result as a string:"
   ]
  },
  {
   "cell_type": "code",
   "execution_count": null,
   "metadata": {},
   "outputs": [],
   "source": [
    "fin.readline()"
   ]
  },
  {
   "cell_type": "markdown",
   "metadata": {},
   "source": [
    "The sequence `\\n` at the end of this line represents the newline character that separates this line from the next.\n",
    "\n",
    "The file object keeps track of where it is in the file, so if you call `readline` again, you get the next line:"
   ]
  },
  {
   "cell_type": "code",
   "execution_count": null,
   "metadata": {},
   "outputs": [],
   "source": [
    "fin.readline()"
   ]
  },
  {
   "cell_type": "markdown",
   "metadata": {},
   "source": [
    "If the newline character is bothering you, you can get rid of it with the `string` method `strip`:"
   ]
  },
  {
   "cell_type": "code",
   "execution_count": null,
   "metadata": {},
   "outputs": [],
   "source": [
    "line = fin.readline()\n",
    "stripped_line = line.strip()\n",
    "stripped_line"
   ]
  },
  {
   "cell_type": "markdown",
   "metadata": {},
   "source": [
    "When you're done with it, you should close the file by saying:"
   ]
  },
  {
   "cell_type": "code",
   "execution_count": null,
   "metadata": {
    "collapsed": true
   },
   "outputs": [],
   "source": [
    "fin.close()"
   ]
  },
  {
   "cell_type": "markdown",
   "metadata": {},
   "source": [
    "## Reading files, creating lists of words\n",
    "\n",
    "You can also use a file object as part of a `for` loop. \n",
    "\n",
    "The following reads `tale.txt` and prints each line:"
   ]
  },
  {
   "cell_type": "code",
   "execution_count": null,
   "metadata": {},
   "outputs": [],
   "source": [
    "fin = open('tale.txt')\n",
    "for line in fin:\n",
    "    stripped_line = line.strip()\n",
    "    print(stripped_line)\n",
    "fin.close()"
   ]
  },
  {
   "cell_type": "markdown",
   "metadata": {},
   "source": [
    "Now let's try reading `1000words.txt` and storing the words in a list:"
   ]
  },
  {
   "cell_type": "code",
   "execution_count": null,
   "metadata": {},
   "outputs": [],
   "source": [
    "fin = open('1000words.txt')\n",
    "list_of_words = [] # create an empty list\n",
    "for line in fin:\n",
    "    word = line.strip()\n",
    "    list_of_words.append(word)\n",
    "#print(list_of_words)\n",
    "fin.close()\n",
    "print(list_of_words[:10])"
   ]
  },
  {
   "cell_type": "markdown",
   "metadata": {},
   "source": [
    "# Exercise (5 pts)\n",
    "\n",
    "How many words are in the file `words.txt`?\n",
    "\n",
    "Create a new jupiter notebook containing your solution. Name your notebook as instructed in class. Upload it to Canvas. "
   ]
  },
  {
   "cell_type": "code",
   "execution_count": null,
   "metadata": {
    "collapsed": true
   },
   "outputs": [],
   "source": []
  }
 ],
 "metadata": {
  "kernelspec": {
   "display_name": "Python 3",
   "language": "python",
   "name": "python3"
  },
  "language_info": {
   "codemirror_mode": {
    "name": "ipython",
    "version": 3
   },
   "file_extension": ".py",
   "mimetype": "text/x-python",
   "name": "python",
   "nbconvert_exporter": "python",
   "pygments_lexer": "ipython3",
   "version": "3.6.4"
  }
 },
 "nbformat": 4,
 "nbformat_minor": 2
}
