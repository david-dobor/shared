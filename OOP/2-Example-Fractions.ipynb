{
 "cells": [
  {
   "cell_type": "markdown",
   "metadata": {},
   "source": [
    "# Example:  `fractions`. Using `getter` methods \n",
    "\n",
    "Now that we've seen the basic idea of creating a class and creating instances of a class, we'll look at an example.\n",
    "\n",
    "Let's define a new type (class) that represents a number as a fraction. To get things started, we'll have to decide what are the data attributes we need to include in the class (i.e., what's the internal representation of the class) and what are the methods that can be used to interact with the instances of the class (i.e., what's the interface of the class).\n",
    "\n",
    "As for the *attributes*, we need the numerator and the denominator (i.e., the internal representation will be two integers). As for the *interface*, we might want to think about things like how to add or subtract two fractions, how to convert `fraction`s to `float`s, may be even having a nice `print` representation of the `fraction`.\n",
    "\n",
    "Here's our first attempt:"
   ]
  },
  {
   "cell_type": "code",
   "execution_count": 1,
   "metadata": {},
   "outputs": [
    {
     "name": "stdout",
     "output_type": "stream",
     "text": [
      "1 / 2\n",
      "2 / 3\n"
     ]
    }
   ],
   "source": [
    "class fraction(object):\n",
    "    def __init__(self, numer, denom):\n",
    "        self.numer = numer\n",
    "        self.denom = denom\n",
    "    def __str__(self):\n",
    "        return str(self.numer) + ' / ' + str(self.denom)\n",
    "\n",
    "one_half = fraction(1,2)\n",
    "two_thirds = fraction(2,3)\n",
    "print(one_half)\n",
    "print(two_thirds)"
   ]
  },
  {
   "cell_type": "markdown",
   "metadata": {},
   "source": [
    "## Getters\n",
    "\n",
    "As we said, we want to add an interface to this class that enables the user of this class to add or subtract fractions.\n",
    "\n",
    "We first would like to create a couple of methods that let us access the data attributes of the class. These are often called **getters** (they allow us to get the attributes out of the class). \n",
    "\n",
    "A word on why do this: `getters` are going to be important because they allow us separate the access to the internal representation of the `fraction` object from the representation as seen by the user of the object. \n",
    "We'll discuss this in more depth in the next section (it has to do with the design principle of information hiding).\n"
   ]
  },
  {
   "cell_type": "code",
   "execution_count": 2,
   "metadata": {},
   "outputs": [
    {
     "data": {
      "text/plain": [
       "2"
      ]
     },
     "execution_count": 2,
     "metadata": {},
     "output_type": "execute_result"
    }
   ],
   "source": [
    "class fraction(object):\n",
    "    def __init__(self, numer, denom):\n",
    "        self.numer = numer\n",
    "        self.denom = denom\n",
    "    def __str__(self):\n",
    "        return str(self.numer) + ' / ' + str(self.denom)\n",
    "    def getNumer(self):\n",
    "        return self.numer\n",
    "    def getDenom(self):\n",
    "        return self.denom\n",
    "\n",
    "two_thirds = fraction(2,3)\n",
    "two_thirds.getNumer()"
   ]
  },
  {
   "cell_type": "markdown",
   "metadata": {},
   "source": [
    "Notice the call to `getNumer` in the last line above: \n",
    "\n",
    "* `two_thirds` to the left of the dot, `.`, stands for the instance of the `fraction` class, which is a frame somewhere in memory. \n",
    "* the dot `.` itself followed by `getNumer` says: \"get me the binding for `getNumer` in that frame\". So `getNumer` now points to the definition of that method in that frame of memory.\n",
    "* `getNumer()` with parens is the actual call to the `getNumer` method found in that frame in memory. This call invokes the procedure, which in turn returns the result, 2."
   ]
  },
  {
   "cell_type": "markdown",
   "metadata": {},
   "source": [
    "## Adding `add` and `subtract` methods to the `fraction` class"
   ]
  },
  {
   "cell_type": "code",
   "execution_count": 3,
   "metadata": {},
   "outputs": [
    {
     "name": "stdout",
     "output_type": "stream",
     "text": [
      "7 / 6\n",
      "7 / 6\n",
      "7 / 6\n"
     ]
    }
   ],
   "source": [
    "class fraction(object):\n",
    "    def __init__(self, numer, denom):\n",
    "        self.numer = numer\n",
    "        self.denom = denom\n",
    "    def __str__(self):\n",
    "        return str(self.numer) + ' / ' + str(self.denom)\n",
    "    def getNumer(self):\n",
    "        return self.numer\n",
    "    def getDenom(self):\n",
    "        return self.denom\n",
    "    def __add__(self, other):\n",
    "        numerNew = other.getDenom() * self.getNumer() \\\n",
    "                   + other.getNumer() * self.getDenom()\n",
    "        denomNew = other.getDenom() * self.getDenom()\n",
    "        return fraction(numerNew, denomNew)\n",
    "    def __sub__(self, other):\n",
    "        numerNew = other.getDenom() * self.getNumer() \\\n",
    "                   - other.getNumer() * self.getDenom()\n",
    "        denomNew = other.getDenom() * self.getDenom()\n",
    "        return fraction(numerNew, denomNew)\n",
    "\n",
    "one_half = fraction(1,2)\n",
    "two_thirds = fraction(2,3)\n",
    "\n",
    "\n",
    "\n",
    "# Python allows for several ways of calling __add__\n",
    "result = fraction.__add__(one_half, two_thirds)\n",
    "print(result)\n",
    "\n",
    "result = one_half.__add__(two_thirds)\n",
    "print(result)\n",
    "\n",
    "result = one_half + two_thirds\n",
    "print(result)"
   ]
  },
  {
   "cell_type": "markdown",
   "metadata": {},
   "source": [
    "## Adding the `convert` method\n",
    "\n",
    "This one is the easiest:"
   ]
  },
  {
   "cell_type": "code",
   "execution_count": 4,
   "metadata": {},
   "outputs": [
    {
     "name": "stdout",
     "output_type": "stream",
     "text": [
      "three quarters: 3/4\n",
      "two thirds: 2/3\n",
      "2/3 - 3/4 = -1/12\n",
      "\n",
      "Converting 3/4 to its floating point representation... ans: 0.75\n",
      "\n",
      "Converting 2/3 to its floating point representation... ans: 0.6666666666666666\n"
     ]
    }
   ],
   "source": [
    "class fraction(object):\n",
    "    def __init__(self, numer, denom):\n",
    "        self.numer = numer\n",
    "        self.denom = denom\n",
    "    def __str__(self):\n",
    "        return str(self.numer) + '/' + str(self.denom)\n",
    "    def getNumer(self):\n",
    "        return self.numer\n",
    "    def getDenom(self):\n",
    "        return self.denom\n",
    "    def __add__(self, other):\n",
    "        numerNew = other.getDenom() * self.getNumer() \\\n",
    "                   + other.getNumer() * self.getDenom()\n",
    "        denomNew = other.getDenom() * self.getDenom()\n",
    "        return fraction(numerNew, denomNew)\n",
    "    def __sub__(self, other):\n",
    "        numerNew = other.getDenom() * self.getNumer() \\\n",
    "                   - other.getNumer() * self.getDenom()\n",
    "        denomNew = other.getDenom() * self.getDenom()\n",
    "        return fraction(numerNew, denomNew)\n",
    "    def convert(self):\n",
    "        return self.getNumer() / self.getDenom()\n",
    "    \n",
    "three_quarters = fraction(3,4)\n",
    "print('three quarters:', three_quarters)\n",
    "\n",
    "two_thirds = fraction(2,3)\n",
    "print('two thirds:', two_thirds)\n",
    "\n",
    "result = two_thirds - three_quarters\n",
    "print('2/3 - 3/4 =', result)\n",
    "\n",
    "print()\n",
    "print('Converting 3/4 to its floating point representation... ans:', three_quarters.convert())\n",
    "print()\n",
    "print('Converting 2/3 to its floating point representation... ans:', two_thirds.convert())"
   ]
  },
  {
   "cell_type": "code",
   "execution_count": null,
   "metadata": {
    "collapsed": true
   },
   "outputs": [],
   "source": []
  }
 ],
 "metadata": {
  "kernelspec": {
   "display_name": "Python 3",
   "language": "python",
   "name": "python3"
  },
  "language_info": {
   "codemirror_mode": {
    "name": "ipython",
    "version": 3
   },
   "file_extension": ".py",
   "mimetype": "text/x-python",
   "name": "python",
   "nbconvert_exporter": "python",
   "pygments_lexer": "ipython3",
   "version": "3.6.4"
  }
 },
 "nbformat": 4,
 "nbformat_minor": 2
}
