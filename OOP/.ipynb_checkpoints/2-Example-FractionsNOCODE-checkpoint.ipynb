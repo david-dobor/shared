{
 "cells": [
  {
   "cell_type": "markdown",
   "metadata": {},
   "source": [
    "# Example:  `fractions`. Using `getter` methods \n",
    "\n",
    "Now that we've seen the basic idea of creating a class and creating instances of a class, we'll look at an example.\n",
    "\n",
    "Let's define a new type (class) that represents a number as a fraction. To get things started, we'll have to decide what are the data attributes we need to include in the class (i.e., what's the internal representation of the class) and what are the methods that can be used to interact with the instances of the class (i.e., what's the interface of the class).\n",
    "\n",
    "As for the *attributes*, we need the numerator and the denominator (i.e., the internal representation will be two integers). As for the *interface*, we might want to think about things like how to add or subtract two fractions, how to convert `fraction`s to `float`s, may be even having a nice `print` representation of the `fraction`.\n",
    "\n",
    "Here's our first attempt:"
   ]
  },
  {
   "cell_type": "code",
   "execution_count": null,
   "metadata": {},
   "outputs": [],
   "source": [
    "pass"
   ]
  },
  {
   "cell_type": "markdown",
   "metadata": {},
   "source": [
    "## Getters\n",
    "\n",
    "As we said, we want to add an interface to this class that enables the user of this class to add or subtract fractions.\n",
    "\n",
    "We first would like to create a couple of methods that let us access the data attributes of the class. These are often called **getters** (they allow us to get the attributes out of the class). \n",
    "\n",
    "A word on why do this: `getters` are going to be important because they allow us separate the access to the internal representation of the `fraction` object from the representation as seen by the user of the object. \n",
    "We'll discuss this in more depth in the next section (it has to do with the design principle of information hiding).\n"
   ]
  },
  {
   "cell_type": "code",
   "execution_count": null,
   "metadata": {},
   "outputs": [],
   "source": [
    "pass"
   ]
  },
  {
   "cell_type": "markdown",
   "metadata": {},
   "source": [
    "Notice the call to `getNumer` in the last line above: \n",
    "\n",
    "* `two_thirds` to the left of the dot, `.`, stands for the instance of the `fraction` class, which is a frame somewhere in memory. \n",
    "* the dot `.` itself followed by `getNumer` says: \"get me the binding for `getNumer` in that frame\". So `getNumer` now points to the definition of that method in that frame of memory.\n",
    "* `getNumer()` with parens is the actual call to the `getNumer` method found in that frame in memory. This call invokes the procedure, which in turn returns the result, 2."
   ]
  },
  {
   "cell_type": "markdown",
   "metadata": {},
   "source": [
    "## Adding `add` and `subtract` methods to the `fraction` class"
   ]
  },
  {
   "cell_type": "code",
   "execution_count": null,
   "metadata": {},
   "outputs": [],
   "source": [
    "pass"
   ]
  },
  {
   "cell_type": "markdown",
   "metadata": {},
   "source": [
    "## Adding the `convert` method\n",
    "\n",
    "This one is the easiest:"
   ]
  },
  {
   "cell_type": "code",
   "execution_count": null,
   "metadata": {},
   "outputs": [],
   "source": [
    "pass"
   ]
  }
 ],
 "metadata": {
  "kernelspec": {
   "display_name": "Python 3",
   "language": "python",
   "name": "python3"
  },
  "language_info": {
   "codemirror_mode": {
    "name": "ipython",
    "version": 3
   },
   "file_extension": ".py",
   "mimetype": "text/x-python",
   "name": "python",
   "nbconvert_exporter": "python",
   "pygments_lexer": "ipython3",
   "version": "3.6.4"
  }
 },
 "nbformat": 4,
 "nbformat_minor": 2
}
