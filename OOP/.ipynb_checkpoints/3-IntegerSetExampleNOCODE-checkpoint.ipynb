{
 "cells": [
  {
   "cell_type": "markdown",
   "metadata": {},
   "source": [
    "# Example: `IntegerSet`\n",
    "\n",
    "For another example, we'll create a new type called `IntegerSet` that represents a collection of integers. This type should satisfy the following requirements:\n",
    "\n",
    "* the set initially the set is empty\n",
    "* a particular integer appears only once in a set (representational invariant enforced by the code)\n",
    "\n",
    "The internal data representation will use a list to store the elements of a set. \n",
    "\n",
    "The interface of the class should have the following methods:\n",
    "\n",
    "* `insert(e)` – insert integer `e` into set if not there\n",
    "* `member(e)` – return `True` if integer `e` is in set, `False` else\n",
    "* `remove(e)` – remove integer `e` from set, error if not present\n",
    "\n",
    "Follow the classroom discussion as we gradually build this class.\n",
    "\n",
    "Here is the result:"
   ]
  },
  {
   "cell_type": "code",
   "execution_count": 1,
   "metadata": {
    "collapsed": true
   },
   "outputs": [],
   "source": [
    "class intSet(object):\n",
    "    \"\"\"An intSet is a set of integers\n",
    "    The value is represented by a list of ints, self.vals.\n",
    "    Each int in the set occurs in self.vals exactly once.\"\"\"\n",
    "\n",
    "    def __init__(self):\n",
    "        \"\"\"Create an empty set of integers\"\"\"\n",
    "        self.vals = []\n",
    "\n",
    "    def insert(self, e):\n",
    "        \"\"\"Assumes e is an integer and inserts e into self\"\"\"\n",
    "        if not e in self.vals:\n",
    "            self.vals.append(e)\n",
    "\n",
    "    def member(self, e):\n",
    "        \"\"\"Assumes e is an integer\n",
    "        Returns True if e is in self, and False otherwise\"\"\"\n",
    "        return e in self.vals\n",
    "\n",
    "    def remove(self, e):\n",
    "        \"\"\"Assumes e is an integer and removes e from self\n",
    "        Raises ValueError if e is not in self\"\"\"\n",
    "        try:\n",
    "            self.vals.remove(e)\n",
    "        except:\n",
    "            raise ValueError(str(e) + ' not found')\n",
    "\n",
    "    def __str__(self):\n",
    "        \"\"\"Returns a string representation of self\"\"\"\n",
    "        self.vals.sort()\n",
    "        result = ''\n",
    "        for e in self.vals:\n",
    "            result = result + str(e) + ','\n",
    "        return '{' + result[:-1] + '}'\n"
   ]
  },
  {
   "cell_type": "code",
   "execution_count": 1,
   "metadata": {},
   "outputs": [],
   "source": [
    "#s = intSet()\n",
    "#print(s)"
   ]
  },
  {
   "cell_type": "code",
   "execution_count": 2,
   "metadata": {},
   "outputs": [],
   "source": [
    "#s.insert(3)\n",
    "#s.insert(4)\n",
    "#s.insert(3)\n",
    "#print(s)"
   ]
  },
  {
   "cell_type": "code",
   "execution_count": 3,
   "metadata": {},
   "outputs": [],
   "source": [
    "#s.member(3)"
   ]
  },
  {
   "cell_type": "code",
   "execution_count": 4,
   "metadata": {},
   "outputs": [],
   "source": [
    "#s.member(5)"
   ]
  },
  {
   "cell_type": "code",
   "execution_count": 5,
   "metadata": {},
   "outputs": [],
   "source": [
    "#s.insert(6)\n",
    "#print(s)"
   ]
  },
  {
   "cell_type": "code",
   "execution_count": 6,
   "metadata": {},
   "outputs": [],
   "source": [
    "#s.remove(3)\n",
    "#print(s)"
   ]
  },
  {
   "cell_type": "code",
   "execution_count": 7,
   "metadata": {},
   "outputs": [],
   "source": [
    "#s.remove(3)\n",
    "#print(s)"
   ]
  },
  {
   "cell_type": "code",
   "execution_count": null,
   "metadata": {
    "collapsed": true
   },
   "outputs": [],
   "source": []
  }
 ],
 "metadata": {
  "kernelspec": {
   "display_name": "Python 3",
   "language": "python",
   "name": "python3"
  },
  "language_info": {
   "codemirror_mode": {
    "name": "ipython",
    "version": 3
   },
   "file_extension": ".py",
   "mimetype": "text/x-python",
   "name": "python",
   "nbconvert_exporter": "python",
   "pygments_lexer": "ipython3",
   "version": "3.6.4"
  }
 },
 "nbformat": 4,
 "nbformat_minor": 2
}
