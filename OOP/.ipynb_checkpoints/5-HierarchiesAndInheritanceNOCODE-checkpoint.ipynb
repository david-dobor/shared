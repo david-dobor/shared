{
 "cells": [
  {
   "cell_type": "markdown",
   "metadata": {},
   "source": [
    "<img src=\"hierarchies1.png\" width=\"370\">"
   ]
  },
  {
   "cell_type": "markdown",
   "metadata": {},
   "source": [
    "A useful property of classes is that we can have hierarchies of them.\n",
    "\n",
    "Many types have properties in common with other types. For example, rabits, cats and humans are kinds of animals, and they share certain animal-like behaviors. For example, the ability to move or to emit a sound is a behavior that is shared among all these animals. These behaviors of course vary from one kind of an animal to another - while bears roar, cats mewow - but the ability to make some sound is common. \n",
    " \n",
    "The different kinds of animals might also share common attributes. For example, `age` might be an attribute that every animal has, whether it's a human or a rabbit. \n",
    "\n",
    "We want to develop a type for each kind of animal - one for a human, one for a rabbit, etc. But we want to abstract away the behaviors and attributes that are common to all animals into a single class. This class, which we'll call the `Animal` class, will be a *superclass* to these related types. The types `Human`, `Cat`, etc., will inherit certain bahaviors and attributes from the `Animal` class, and we'll call these types *subclasses* of the `Animal` class. \n",
    "\n",
    "Each subclass will then add a certain twist to the shared animal-like behavior. For example the `Human` subclass of the `Animal` superclass will have the ability to speak, which is a particular way of emiting sounds; cats will have the ability to meow, etc. \n",
    "\n",
    "What we've just described is an example of **inheritance**, and it provides a convenient mechanism for for building groups of related abstractions. \n",
    "\n",
    "Here's what our hierarchy will end up looking like:\n",
    "\n",
    "<img src=\"hierarchy2.png\" width=\"300\">\n"
   ]
  },
  {
   "cell_type": "markdown",
   "metadata": {},
   "source": [
    "# The `Animal` class\n",
    "\n",
    "Here is the `Animal` class again:"
   ]
  },
  {
   "cell_type": "code",
   "execution_count": 1,
   "metadata": {
    "collapsed": true
   },
   "outputs": [],
   "source": [
    "pass"
   ]
  },
  {
   "cell_type": "markdown",
   "metadata": {},
   "source": [
    "Here is the `Cat` class that inherits the behaviors and attributes from the `Animal` class, that is, `Cat` is a subclass of the `Animal` class:"
   ]
  },
  {
   "cell_type": "code",
   "execution_count": 2,
   "metadata": {
    "collapsed": true
   },
   "outputs": [],
   "source": [
    "pass"
   ]
  },
  {
   "cell_type": "markdown",
   "metadata": {},
   "source": [
    "A few things to observe:\n",
    "\n",
    "* An instance of type `Cat` can be called with new methods (here `speak`). \n",
    "* An instance of type `Animal` throws an error if called with the new `Cat` methods.\n",
    "* `__init__` is *not* missing in `Cat` - `Cat` uses the `Animal` version of `__init__`"
   ]
  },
  {
   "cell_type": "code",
   "execution_count": 3,
   "metadata": {
    "collapsed": true
   },
   "outputs": [],
   "source": [
    "pass"
   ]
  },
  {
   "cell_type": "code",
   "execution_count": 4,
   "metadata": {},
   "outputs": [
    {
     "data": {
      "text/plain": [
       "'JellyBelly'"
      ]
     },
     "execution_count": 4,
     "metadata": {},
     "output_type": "execute_result"
    }
   ],
   "source": [
    "jelly.set_name('JellyBelly')  # give name to jelly\n",
    "jelly.get_name()"
   ]
  },
  {
   "cell_type": "markdown",
   "metadata": {},
   "source": [
    "Now notice the difference between the following two calls. In the first one, we say `print(jelly)`, which calls the `__str__` method found in the `Cat` class (because jelly is a Cat)."
   ]
  },
  {
   "cell_type": "code",
   "execution_count": 5,
   "metadata": {},
   "outputs": [
    {
     "name": "stdout",
     "output_type": "stream",
     "text": [
      "cat:JellyBelly:1\n"
     ]
    }
   ],
   "source": [
    "pass"
   ]
  },
  {
   "cell_type": "markdown",
   "metadata": {},
   "source": [
    "But jelly is also an `Animal`, so we can also call the `__str__` method from class `Animal`, passing jelly to it:"
   ]
  },
  {
   "cell_type": "code",
   "execution_count": 6,
   "metadata": {},
   "outputs": [
    {
     "name": "stdout",
     "output_type": "stream",
     "text": [
      "animal:JellyBelly:1\n"
     ]
    }
   ],
   "source": [
    "pass"
   ]
  },
  {
   "cell_type": "markdown",
   "metadata": {},
   "source": [
    "So jelly has a way of getting to its superclass `__str__` method if need be, but the default `__str__` method that is called when we say `print(jelly)` is jelly's own `__str__` method (the subclass method, which overrrides the `__str__` method found in the superclass `Animal`).\n",
    "\n",
    "\n",
    "## Rabbit\n",
    "\n",
    "Now let's define another kind of animal, a rabbit."
   ]
  },
  {
   "cell_type": "code",
   "execution_count": 7,
   "metadata": {
    "collapsed": true
   },
   "outputs": [],
   "source": [
    "pass"
   ]
  },
  {
   "cell_type": "code",
   "execution_count": 8,
   "metadata": {},
   "outputs": [
    {
     "name": "stdout",
     "output_type": "stream",
     "text": [
      "peter says: meep\n",
      "while jelly says, meow\n"
     ]
    }
   ],
   "source": [
    "peter = Rabbit(5)  # peter is an instance of type Rabbit, he's 5 years old\n",
    "print('peter says:',end=' ')\n",
    "peter.speak()\n",
    "print('while jelly says,',end=' ')\n",
    "jelly.speak()"
   ]
  },
  {
   "cell_type": "markdown",
   "metadata": {},
   "source": [
    "The point here is that we have two `speak` methods: one for jelly and one for peter. The appropriate `speak` method is called because there is a version of `speak` associated with each instance. That is the frame in memory where the instance peter lives has its method `speak`, while `jelly` has its own version. The dot `.` after the instance name tells Python which `speak` to look up and call.\n",
    "\n",
    "Now let's define a new `Animal` and check if it can speak:"
   ]
  },
  {
   "cell_type": "code",
   "execution_count": 9,
   "metadata": {},
   "outputs": [
    {
     "ename": "AttributeError",
     "evalue": "'Animal' object has no attribute 'speak'",
     "output_type": "error",
     "traceback": [
      "\u001b[0;31m---------------------------------------------------------------------------\u001b[0m",
      "\u001b[0;31mAttributeError\u001b[0m                            Traceback (most recent call last)",
      "\u001b[0;32m<ipython-input-9-57ae1f7d57ba>\u001b[0m in \u001b[0;36m<module>\u001b[0;34m()\u001b[0m\n\u001b[1;32m      1\u001b[0m \u001b[0mblob\u001b[0m \u001b[0;34m=\u001b[0m \u001b[0mAnimal\u001b[0m\u001b[0;34m(\u001b[0m\u001b[0;36m2\u001b[0m\u001b[0;34m)\u001b[0m\u001b[0;34m\u001b[0m\u001b[0m\n\u001b[0;32m----> 2\u001b[0;31m \u001b[0mblob\u001b[0m\u001b[0;34m.\u001b[0m\u001b[0mspeak\u001b[0m\u001b[0;34m(\u001b[0m\u001b[0;34m)\u001b[0m\u001b[0;34m\u001b[0m\u001b[0m\n\u001b[0m",
      "\u001b[0;31mAttributeError\u001b[0m: 'Animal' object has no attribute 'speak'"
     ]
    }
   ],
   "source": [
    "blob = Animal(2)\n",
    "blob.speak()"
   ]
  },
  {
   "cell_type": "markdown",
   "metadata": {},
   "source": [
    "Here we get an error because `Animal` does not have a `speak` method."
   ]
  },
  {
   "cell_type": "markdown",
   "metadata": {},
   "source": [
    "## Person\n",
    "\n",
    "Here's yet another kind of animal, a person:"
   ]
  },
  {
   "cell_type": "code",
   "execution_count": 10,
   "metadata": {
    "collapsed": true
   },
   "outputs": [],
   "source": [
    "class Person(Animal):\n",
    "    def __init__(self, name, age):\n",
    "        Animal.__init__(self, age)\n",
    "        Animal.set_name(self, name)\n",
    "        self.friends = []\n",
    "    def get_friends(self):\n",
    "        return self.friends\n",
    "    def add_friend(self, fname):\n",
    "        if fname not in self.friends:\n",
    "            self.friends.append(fname)\n",
    "    def speak(self):\n",
    "        print(\"hello\")\n",
    "    def age_diff(self, other):\n",
    "        # alternate way: diff = self.age - other.age\n",
    "        diff = self.get_age() - other.get_age()\n",
    "        if self.age > other.age:\n",
    "            print(self.name, \"is\", diff, \"years older than\", other.name)\n",
    "        else:\n",
    "            print(self.name, \"is\", -diff, \"years younger than\", other.name)\n",
    "    def __str__(self):\n",
    "        return \"person:\"+str(self.name)+\":\"+str(self.age)\n"
   ]
  },
  {
   "cell_type": "markdown",
   "metadata": {},
   "source": [
    "The `Person` class, which inherits from the `Animal` class (`Person` is a kind of `Animal`), has a bunch of new methods associated with it. One new feature to note, though, is that we can explicitly call the superclass `__init__` method (and other methods) from `Person`'s `__init__` method to initialize attributes as needed. \n",
    "\n",
    "For example, to set the `Person`'s age, we simply call the superclass `__init__` method. Similarly, we can set the `Person`'s name by calling the superclass `set_name` method.\n",
    "\n",
    "Now let's create some people:"
   ]
  },
  {
   "cell_type": "code",
   "execution_count": 11,
   "metadata": {},
   "outputs": [
    {
     "name": "stdout",
     "output_type": "stream",
     "text": [
      "hello\n"
     ]
    }
   ],
   "source": [
    "donald = Person(\"Donald\", 80)\n",
    "tim = Person(\"Timothy\", 22)\n",
    "donald.speak()   # <- donald, unlike rabbits, says 'hello'"
   ]
  },
  {
   "cell_type": "code",
   "execution_count": 12,
   "metadata": {},
   "outputs": [
    {
     "name": "stdout",
     "output_type": "stream",
     "text": [
      "Donald is 58 years older than Timothy\n"
     ]
    }
   ],
   "source": [
    "donald.age_diff(tim)"
   ]
  },
  {
   "cell_type": "code",
   "execution_count": 13,
   "metadata": {},
   "outputs": [
    {
     "name": "stdout",
     "output_type": "stream",
     "text": [
      "Donald is 58 years older than Timothy\n"
     ]
    }
   ],
   "source": [
    "Person.age_diff(donald, tim)"
   ]
  },
  {
   "cell_type": "markdown",
   "metadata": {},
   "source": [
    "## Subclassing `Person` further\n",
    "\n",
    "`Student` is a type of `Person`. This type has all the behaviors and attributes found in the `Person` class, such as an ability to `speak` and `age`. \n",
    "\n",
    "But a `Student` may have other attributes (such as a `major`) and behaviors (such as the ability to change majors) that are generally not associated with a regular `Person`s. A `Student` may also `speak` differently than some other type of `Person`, say a politician. \n",
    "\n",
    "So we create a new `Student` class by subclassing the `Person` class as follows:"
   ]
  },
  {
   "cell_type": "code",
   "execution_count": 14,
   "metadata": {
    "collapsed": true
   },
   "outputs": [],
   "source": [
    "import random\n",
    "\n",
    "class Student(Person):\n",
    "    def __init__(self, name, age, major=None):\n",
    "        Person.__init__(self, name, age)\n",
    "        self.major = major\n",
    "    def change_major(self, major):\n",
    "        self.major = major\n",
    "    def speak(self):\n",
    "        r = random.random()\n",
    "        if r < 0.25:\n",
    "            print(\"i have homework\")\n",
    "        elif 0.25 <= r < 0.5:\n",
    "            print(\"i need sleep\")\n",
    "        elif 0.5 <= r < 0.75:\n",
    "            print(\"i should eat\")\n",
    "        else:\n",
    "            print(\"i am watching tv\")\n",
    "    def __str__(self):\n",
    "        return \"student:\"+str(self.name)+\":\"+str(self.age)+\":\"+str(self.major)"
   ]
  },
  {
   "cell_type": "code",
   "execution_count": 15,
   "metadata": {},
   "outputs": [
    {
     "name": "stdout",
     "output_type": "stream",
     "text": [
      "student:Fred:18:1051\n"
     ]
    }
   ],
   "source": [
    "fred = Student('Fred', 18, '1051')\n",
    "print(fred)"
   ]
  },
  {
   "cell_type": "code",
   "execution_count": 16,
   "metadata": {},
   "outputs": [
    {
     "name": "stdout",
     "output_type": "stream",
     "text": [
      "i should eat\n"
     ]
    }
   ],
   "source": [
    "fred.speak()"
   ]
  },
  {
   "cell_type": "code",
   "execution_count": 17,
   "metadata": {},
   "outputs": [
    {
     "name": "stdout",
     "output_type": "stream",
     "text": [
      "i have homework\n",
      "i need sleep\n",
      "i have homework\n"
     ]
    }
   ],
   "source": [
    "fred.speak()\n",
    "fred.speak()\n",
    "fred.speak()"
   ]
  },
  {
   "cell_type": "code",
   "execution_count": null,
   "metadata": {
    "collapsed": true
   },
   "outputs": [],
   "source": []
  }
 ],
 "metadata": {
  "kernelspec": {
   "display_name": "Python 3",
   "language": "python",
   "name": "python3"
  },
  "language_info": {
   "codemirror_mode": {
    "name": "ipython",
    "version": 3
   },
   "file_extension": ".py",
   "mimetype": "text/x-python",
   "name": "python",
   "nbconvert_exporter": "python",
   "pygments_lexer": "ipython3",
   "version": "3.6.4"
  }
 },
 "nbformat": 4,
 "nbformat_minor": 2
}
